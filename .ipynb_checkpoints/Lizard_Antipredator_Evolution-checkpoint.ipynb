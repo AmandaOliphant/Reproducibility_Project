{
 "cells": [
  {
   "cell_type": "markdown",
   "metadata": {},
   "source": [
    "### Based on: https://onlinelibrary.wiley.com/doi/full/10.1111/evo.12555 \n",
    "<b>Datasets: https://datadryad.org/resource/doi:10.5061/dryad.bt52f?show=full</b>"
   ]
  },
  {
   "cell_type": "code",
   "execution_count": 1,
   "metadata": {},
   "outputs": [],
   "source": [
    "suppressMessages(library(tidyverse))\n",
    "library(readxl)"
   ]
  },
  {
   "cell_type": "code",
   "execution_count": 3,
   "metadata": {},
   "outputs": [
    {
     "name": "stdout",
     "output_type": "stream",
     "text": [
      "# A tibble: 913 x 23\n",
      "   `Island name` `FID (cm)` `DR (cm)` `Group FID mean` `Group DR mean`\n",
      "   <chr>              <dbl>     <dbl>            <dbl>           <dbl>\n",
      " 1 Naxos                110        10             193.            42.1\n",
      " 2 Naxos                240        20             193.            42.1\n",
      " 3 Naxos                220        15             193.            42.1\n",
      " 4 Naxos                210        30             193.            42.1\n",
      " 5 Naxos                190       110             193.            42.1\n",
      " 6 Naxos                180        60             193.            42.1\n",
      " 7 Naxos                170        20             193.            42.1\n",
      " 8 Naxos                250        40             193.            42.1\n",
      " 9 Naxos                100        20             193.            42.1\n",
      "10 Naxos                 80        10             193.            42.1\n",
      "# ... with 903 more rows, and 18 more variables: `0 predators 0=no,\n",
      "#   1=yes` <dbl>, Rats <dbl>, `Sand Boas` <dbl>, Birds <dbl>, Vipers <dbl>,\n",
      "#   `Other Snakes` <dbl>, Mammals <dbl>, `Total Number of Predators` <dbl>,\n",
      "#   `Goats (1=yes, 0=no)` <dbl>, `Humans (1=yes, 0=no)` <dbl>, `Seabirds\n",
      "#   (1=yes, 0=no)` <dbl>, `Walls (1=yes, 0=no)` <dbl>, `Age (years)` <dbl>,\n",
      "#   `Area (square kilometers)` <dbl>, `% Vegetation Cover` <dbl>, `Sheep/goat\n",
      "#   Density` <dbl>, `Lizard Density (per 100m transect)` <dbl>, `Seabird\n",
      "#   Density` <dbl>\n"
     ]
    }
   ],
   "source": [
    "myData = read_excel(\"Hierarchical Linear Model.xlsx\")\n",
    "print(myData)"
   ]
  },
  {
   "cell_type": "code",
   "execution_count": null,
   "metadata": {},
   "outputs": [],
   "source": []
  }
 ],
 "metadata": {
  "kernelspec": {
   "display_name": "R",
   "language": "R",
   "name": "ir"
  },
  "language_info": {
   "codemirror_mode": "r",
   "file_extension": ".r",
   "mimetype": "text/x-r-source",
   "name": "R",
   "pygments_lexer": "r",
   "version": "3.5.1"
  }
 },
 "nbformat": 4,
 "nbformat_minor": 2
}
